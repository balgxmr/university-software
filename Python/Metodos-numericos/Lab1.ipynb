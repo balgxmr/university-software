{
 "cells": [
  {
   "cell_type": "code",
   "execution_count": 46,
   "metadata": {},
   "outputs": [],
   "source": [
    "#Binario a Decimal\n",
    "def bin2dec_int(binary):\n",
    "    binary_list = list(map(int, list(binary)))\n",
    "    exp = list(range(len(binary_list)-1,-1,-1))\n",
    "    potencias = [2**p for p in exp]\n",
    "    decimal = sum([x * y for x, y in zip(binary_list, potencias)])\n",
    "    return decimal"
   ]
  },
  {
   "cell_type": "code",
   "execution_count": 47,
   "metadata": {},
   "outputs": [
    {
     "data": {
      "text/plain": [
       "255"
      ]
     },
     "execution_count": 47,
     "metadata": {},
     "output_type": "execute_result"
    }
   ],
   "source": [
    "bin2dec_int('11111111')"
   ]
  },
  {
   "cell_type": "code",
   "execution_count": 54,
   "metadata": {},
   "outputs": [],
   "source": [
    "# Parte fraccionaria a decimal\n",
    "def fraccbin2dec_int(frac_binary):\n",
    "    binary_list = list(map(int, frac_binary))\n",
    "    exp = list(range(len(binary_list)))\n",
    "    potencias = [2**p for p in exp]\n",
    "    decimal = sum([x * y for x, y in zip(binary_list, potencias)])\n",
    "\n",
    "    return decimal"
   ]
  },
  {
   "cell_type": "code",
   "execution_count": 55,
   "metadata": {},
   "outputs": [
    {
     "data": {
      "text/plain": [
       "1"
      ]
     },
     "execution_count": 55,
     "metadata": {},
     "output_type": "execute_result"
    }
   ],
   "source": [
    "fraccbin2dec_int('1')"
   ]
  },
  {
   "cell_type": "code",
   "execution_count": 31,
   "metadata": {},
   "outputs": [],
   "source": [
    "def bin2dec_frac(binary_frac):\n",
    "  decimal = 0\n",
    "  exp = -1\n",
    "  for digit in binary_frac:\n",
    "    decimal += int(digit) * 2**exp\n",
    "    exp -= 1\n",
    "  return decimal\n",
    "\n",
    "def bin2dec(binary):\n",
    "  # Aquí asumimos que el valor de la parte entera es 0 ya que solo queremos la fraccionaria\n",
    "  fraction = binary.split(\".\")[1]  # Extraer solo la parte fraccionaria\n",
    "  return bin2dec_frac(fraction)\n"
   ]
  },
  {
   "cell_type": "code",
   "execution_count": 32,
   "metadata": {},
   "outputs": [
    {
     "data": {
      "text/plain": [
       "0.03515625"
      ]
     },
     "execution_count": 32,
     "metadata": {},
     "output_type": "execute_result"
    }
   ],
   "source": [
    "bin2dec(\"0.00001001\")"
   ]
  },
  {
   "cell_type": "code",
   "execution_count": 33,
   "metadata": {},
   "outputs": [],
   "source": [
    "# binario a decimal\n",
    "def bin2dec_int(binary):\n",
    "    binary_list = list(map(int, list(binary)))\n",
    "    exp = list(range(len(binary_list)-1,-1,-1))\n",
    "    potencias = [2**p for p in exp]\n",
    "    decimal = sum([x * y for x, y in zip(binary_list,potencias)])\n",
    "    return decimal\n",
    "\n",
    "# fraccionario binario a decimal\n",
    "def bin2dec_frac(binary_frac):\n",
    "    decimal = 0\n",
    "    exp = -1\n",
    "    for digito in binary_frac:\n",
    "        decimal += int(digito) * 2**exp\n",
    "        exp -= 1\n",
    "    return decimal\n",
    "\n",
    "# Parte binaria + fraccionaria binaria\n",
    "def bin2dec(binary):\n",
    "    entero, fraccion = binary.split(\".\")\n",
    "    return bin2dec_int(entero) + bin2dec_frac(fraccion)"
   ]
  },
  {
   "cell_type": "code",
   "execution_count": 34,
   "metadata": {},
   "outputs": [
    {
     "data": {
      "text/plain": [
       "27.125"
      ]
     },
     "execution_count": 34,
     "metadata": {},
     "output_type": "execute_result"
    }
   ],
   "source": [
    "bin2dec(\"11011.001\")"
   ]
  },
  {
   "cell_type": "code",
   "execution_count": 3,
   "metadata": {},
   "outputs": [
    {
     "ename": "ModuleNotFoundError",
     "evalue": "No module named 'sympy'",
     "output_type": "error",
     "traceback": [
      "\u001b[1;31m---------------------------------------------------------------------------\u001b[0m",
      "\u001b[1;31mModuleNotFoundError\u001b[0m                       Traceback (most recent call last)",
      "Cell \u001b[1;32mIn[3], line 1\u001b[0m\n\u001b[1;32m----> 1\u001b[0m \u001b[38;5;28;01mimport\u001b[39;00m \u001b[38;5;21;01msympy\u001b[39;00m \u001b[38;5;28;01mas\u001b[39;00m \u001b[38;5;21;01msp\u001b[39;00m\n\u001b[0;32m      3\u001b[0m \u001b[38;5;66;03m# p: Polinomio de Taylor\u001b[39;00m\n\u001b[0;32m      4\u001b[0m \u001b[38;5;66;03m# f: función\u001b[39;00m\n\u001b[0;32m      5\u001b[0m \u001b[38;5;66;03m# x0: pivote\u001b[39;00m\n\u001b[0;32m      6\u001b[0m \u001b[38;5;66;03m# n: Orden solicitado del polinomio\u001b[39;00m\n\u001b[0;32m      8\u001b[0m \u001b[38;5;28;01mdef\u001b[39;00m \u001b[38;5;21mtaylor\u001b[39m(f, x0, n):\n",
      "\u001b[1;31mModuleNotFoundError\u001b[0m: No module named 'sympy'"
     ]
    }
   ],
   "source": [
    "import sympy as sp\n",
    "\n",
    "# p: Polinomio de Taylor\n",
    "# f: función\n",
    "# x0: pivote\n",
    "# n: Orden solicitado del polinomio\n",
    "\n",
    "def taylor(f, x0, n):\n",
    "    x = sp.symbols('x')\n",
    "    p = 0\n",
    "    for i in range(n + 1):\n",
    "        p+=sp.diff(f,x,i).subs(x, x0)/sp.factorial(i)*(x-x0)**i\n",
    "    return p"
   ]
  },
  {
   "cell_type": "code",
   "execution_count": null,
   "metadata": {},
   "outputs": [],
   "source": [
    "x=sp.symbols('x')\n",
    "fx= 25*x**3-6*x**2+7*x-88\n",
    "x0=1\n",
    "n=4\n",
    "p=taylor(fx, x0, n)"
   ]
  }
 ],
 "metadata": {
  "kernelspec": {
   "display_name": "Python 3",
   "language": "python",
   "name": "python3"
  },
  "language_info": {
   "codemirror_mode": {
    "name": "ipython",
    "version": 3
   },
   "file_extension": ".py",
   "mimetype": "text/x-python",
   "name": "python",
   "nbconvert_exporter": "python",
   "pygments_lexer": "ipython3",
   "version": "3.12.3"
  }
 },
 "nbformat": 4,
 "nbformat_minor": 2
}
